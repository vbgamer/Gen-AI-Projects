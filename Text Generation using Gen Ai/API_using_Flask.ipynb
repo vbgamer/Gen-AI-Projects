{
  "nbformat": 4,
  "nbformat_minor": 0,
  "metadata": {
    "colab": {
      "provenance": []
    },
    "kernelspec": {
      "name": "python3",
      "display_name": "Python 3"
    },
    "language_info": {
      "name": "python"
    }
  },
  "cells": [
    {
      "cell_type": "code",
      "execution_count": null,
      "metadata": {
        "colab": {
          "base_uri": "https://localhost:8080/"
        },
        "id": "2vgP1OwW6uW6",
        "outputId": "1c800e32-db86-440d-83c1-792faaf079e3"
      },
      "outputs": [
        {
          "output_type": "stream",
          "name": "stdout",
          "text": [
            "Requirement already satisfied: Flask in /usr/local/lib/python3.11/dist-packages (3.1.1)\n",
            "Requirement already satisfied: blinker>=1.9.0 in /usr/local/lib/python3.11/dist-packages (from Flask) (1.9.0)\n",
            "Requirement already satisfied: click>=8.1.3 in /usr/local/lib/python3.11/dist-packages (from Flask) (8.2.1)\n",
            "Requirement already satisfied: itsdangerous>=2.2.0 in /usr/local/lib/python3.11/dist-packages (from Flask) (2.2.0)\n",
            "Requirement already satisfied: jinja2>=3.1.2 in /usr/local/lib/python3.11/dist-packages (from Flask) (3.1.6)\n",
            "Requirement already satisfied: markupsafe>=2.1.1 in /usr/local/lib/python3.11/dist-packages (from Flask) (3.0.2)\n",
            "Requirement already satisfied: werkzeug>=3.1.0 in /usr/local/lib/python3.11/dist-packages (from Flask) (3.1.3)\n"
          ]
        }
      ],
      "source": [
        "!pip install Flask"
      ]
    },
    {
      "cell_type": "code",
      "source": [
        "from flask import Flask\n",
        "app = Flask(__name__)\n",
        "\n",
        "@app.route('/products')\n",
        "def products():\n",
        "    return 'Products'\n",
        "\n",
        "@app.route('/customers')\n",
        "def customers():\n",
        "    return 'Customers'"
      ],
      "metadata": {
        "id": "d5zNqP-C657z"
      },
      "execution_count": null,
      "outputs": []
    },
    {
      "cell_type": "code",
      "source": [
        "from flask import Flask, request\n",
        "\n",
        "app = Flask(__name__)\n",
        "\n",
        "@app.route('/products')\n",
        "def products():\n",
        "    return f'This is the {request.path} page'\n",
        "\n",
        "@app.route('/customers')\n",
        "def customers():\n",
        "    return f'This is the {request.path} page'\n",
        "\n",
        "if __name__ == '__main__':\n",
        "    app.run()"
      ],
      "metadata": {
        "colab": {
          "base_uri": "https://localhost:8080/"
        },
        "id": "PBKV0cSA68ie",
        "outputId": "1fb2ae21-cb50-46ef-ae85-a6da6ace5ea0"
      },
      "execution_count": null,
      "outputs": [
        {
          "output_type": "stream",
          "name": "stdout",
          "text": [
            " * Serving Flask app '__main__'\n",
            " * Debug mode: off\n"
          ]
        },
        {
          "output_type": "stream",
          "name": "stderr",
          "text": [
            "INFO:werkzeug:\u001b[31m\u001b[1mWARNING: This is a development server. Do not use it in a production deployment. Use a production WSGI server instead.\u001b[0m\n",
            " * Running on http://127.0.0.1:5000\n",
            "INFO:werkzeug:\u001b[33mPress CTRL+C to quit\u001b[0m\n"
          ]
        }
      ]
    },
    {
      "cell_type": "code",
      "source": [
        "from flask import Flask, request, jsonify\n",
        "import logging\n",
        "\n",
        "app = Flask(__name__)\n",
        "\n",
        "# Configure basic logging\n",
        "logging.basicConfig(level=logging.INFO)\n",
        "\n",
        "@app.route('/')\n",
        "def hello():\n",
        "    name = request.args.get('name', ' MY name is Vedant Bhosale')\n",
        "\n",
        "    # Log the incoming request\n",
        "    logging.info(f\"Received request with name={name}\")\n",
        "\n",
        "    # Basic input validation\n",
        "    if not isinstance(name, str) or len(name) > 100:\n",
        "        return jsonify({'error': 'Invalid name input'}), 400\n",
        "\n",
        "    return jsonify({'message': f'Hello, {name}!'}), 200\n",
        "\n",
        "if __name__ == '__main__':\n",
        "    # In production, use Gunicorn or Waitress. This is for development only.\n",
        "    app.run(debug=True)\n"
      ],
      "metadata": {
        "id": "6eRTpsJ07Ul2",
        "colab": {
          "base_uri": "https://localhost:8080/"
        },
        "outputId": "c6d81ffa-fc5e-4100-ccb6-fead9c115b3f"
      },
      "execution_count": null,
      "outputs": [
        {
          "output_type": "stream",
          "name": "stdout",
          "text": [
            " * Serving Flask app '__main__'\n",
            " * Debug mode: on\n"
          ]
        },
        {
          "output_type": "stream",
          "name": "stderr",
          "text": [
            "INFO:werkzeug:\u001b[31m\u001b[1mWARNING: This is a development server. Do not use it in a production deployment. Use a production WSGI server instead.\u001b[0m\n",
            " * Running on http://127.0.0.1:5000\n",
            "INFO:werkzeug:\u001b[33mPress CTRL+C to quit\u001b[0m\n",
            "INFO:werkzeug: * Restarting with stat\n"
          ]
        }
      ]
    }
  ]
}